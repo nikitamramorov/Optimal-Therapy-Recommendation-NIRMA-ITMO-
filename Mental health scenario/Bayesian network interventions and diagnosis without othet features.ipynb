{
 "cells": [
  {
   "cell_type": "markdown",
   "id": "995c8eba",
   "metadata": {},
   "source": [
    "### Обучаю Байесовскую сеть"
   ]
  },
  {
   "cell_type": "code",
   "execution_count": 1,
   "id": "a6932c93",
   "metadata": {},
   "outputs": [
    {
     "data": {
      "text/html": [
       "        <script type=\"text/javascript\">\n",
       "        window.PlotlyConfig = {MathJaxConfig: 'local'};\n",
       "        if (window.MathJax) {MathJax.Hub.Config({SVG: {font: \"STIX-Web\"}});}\n",
       "        if (typeof require !== 'undefined') {\n",
       "        require.undef(\"plotly\");\n",
       "        requirejs.config({\n",
       "            paths: {\n",
       "                'plotly': ['https://cdn.plot.ly/plotly-2.4.2.min']\n",
       "            }\n",
       "        });\n",
       "        require(['plotly'], function(Plotly) {\n",
       "            window._Plotly = Plotly;\n",
       "        });\n",
       "        }\n",
       "        </script>\n",
       "        "
      ]
     },
     "metadata": {},
     "output_type": "display_data"
    },
    {
     "name": "stdout",
     "output_type": "stream",
     "text": [
      "Automatically created module for IPython interactive environment\n"
     ]
    }
   ],
   "source": [
    "#Импорты библиотек и вспомогательных функций\n",
    "%run C:\\Users\\Илья\\Desktop\\Work\\support_functions.ipynb"
   ]
  },
  {
   "cell_type": "markdown",
   "id": "4628333a",
   "metadata": {},
   "source": [
    "1. Переделать код, чтобы он принимал данные, автоматически их переводил в дискретный вид, обучал БС и выводил качество (табличку качества). Пробую обучить на данных без пропусков и с 1 пропуском.\n",
    "2. Провести эксперимент с БС и описать, сохранить ноутбук."
   ]
  },
  {
   "cell_type": "markdown",
   "id": "55eafd46",
   "metadata": {},
   "source": [
    "#### Смотрим датасеты, отбираем фичи для моделирования"
   ]
  },
  {
   "cell_type": "code",
   "execution_count": 7,
   "id": "7f8958d0",
   "metadata": {},
   "outputs": [],
   "source": [
    "#Функция генерации иlack list если указаны targets\n",
    "def black_list_generating(targets,all_features):\n",
    "    non_targets=list(set(all_features)-set(targets))\n",
    "    edges_for_black=list(itertools.product(targets,non_targets))\n",
    "    black_list=pd.DataFrame(edges_for_black,columns=[\"from\",\"to\"])\n",
    "    return black_list,edges_for_black\n",
    "\n",
    "#Функция генерации white list если указаны targets\n",
    "def fixed_edges_generating(targets,aprior_predictors):\n",
    "    fixed_edges=list(itertools.product(targets,aprior_predictors))\n",
    "    return fixed_edges\n",
    "\n",
    "#Функция деления выборки на тренировочную и тестовую часть\n",
    "def train_test(df):\n",
    "    #Перемешиваем выборку\n",
    "    df=df.sample(random_state=0,frac=1)\n",
    "    \n",
    "    #Вытаскиваем прогнозную величину\n",
    "    target=targets[0]\n",
    "    \n",
    "    X,y=df.drop(target,axis=1),df[target]\n",
    "    \n",
    "    #Делим на тест и тренировку\n",
    "    X_train, X_test, y_train, y_test = train_test_split(X,y,\n",
    "                                                        test_size=0.33, random_state=0)\n",
    "    \n",
    "    df_train=pd.concat([X_train,y_train],axis=1)\n",
    "    df_test=pd.concat([X_test,y_test],axis=1)\n",
    "    \n",
    "    return df_train,df_test\n",
    "\n",
    "\n",
    "# #Создаем таблицу с метриками\n",
    "# pd.DataFrame(columns=[\"target\",\"disease\",'methodtype',\"scoretype\",\n",
    "#                       'methodtype_param', 'accuracy','precision','recall',\n",
    "#                       'F1 score']).to_csv(\"Data/BN_metrics_inter_diagnosis_without_other.csv\",index=None)\n",
    "\n",
    "\n",
    "#Функция расчета метрик и их сохранения в единый файл, для набора признаков из targets\n",
    "def metrics_calculation(model, df_test, methodtype, scoretype, methodtype_param):\n",
    "    \n",
    "    for target in targets:\n",
    "\n",
    "        adjmat=model['adjmat']\n",
    "\n",
    "        predictors=[k for k,v in adjmat.sum().to_dict().items() if (v!=0)&(k!=target)&(k not in targets)] #!\n",
    "\n",
    "        #predicted=bn.predict(model, df_test[predictors], variables=[target])\n",
    "\n",
    "\n",
    "        predicted = [np.argmax(bn.inference.fit(model, \n",
    "                                     variables=[target], \n",
    "                                     evidence=row[predictors].to_dict()).values) for i,row in tqdm_notebook(\n",
    "            df_test.iterrows())]#! скорее всего не сможем предсказать без таргетов\n",
    "\n",
    "        print(predicted)\n",
    "\n",
    "        answers=df_test[target]\n",
    "\n",
    "        accuracy=accuracy_score(answers, predicted)\n",
    "        precision=precision_score(answers, predicted, average='weighted'),\n",
    "        recall=recall_score(answers, predicted, average='weighted'),\n",
    "        F1_score=f1_score(answers, predicted, average='weighted')\n",
    "        print({f\"accuracy {accuracy}\"},precision,recall,F1_score)\n",
    "\n",
    "        all_metrics=pd.read_csv(\"Data/BN_metrics_inter_diagnosis_without_other.csv\")\n",
    "        all_metrics=all_metrics.append(pd.DataFrame([[target,disease, methodtype, scoretype,\n",
    "                                         methodtype_param, accuracy, precision[0], recall[0],\n",
    "                                         F1_score]],\n",
    "                            columns=all_metrics.columns.tolist()))\n",
    "        print(all_metrics)\n",
    "        all_metrics.to_csv(\"Data/BN_metrics_inter_diagnosis_without_other.csv\",index=None)\n",
    "\n",
    "\n",
    "        \n",
    "        \n",
    "        \n",
    "#Функция построения БС\n",
    "def create_Bayesian_network(df,methodtype,methodtype_param,scoretype,disease,targets=None,white_list=None,black_list=None,ind_graph=0):\n",
    "\n",
    "                             \n",
    "    #Если есть зависимые и целевые переменные, скрипт запрещает ребра от целевых к зависимым\n",
    "    if (targets!=None)&(methodtype==\"hc\"):\n",
    "        black_list,edges_for_black=black_list_generating(targets=targets,all_features=df.columns.tolist())\n",
    "        bw_list_method=\"edges\" #\n",
    "        \n",
    "        #Генерируем список заданных ребер\n",
    "#         aprior_predictors=[\"Состояние_пациента\",\"С-реактивный белок (СРБ) колич.\"]\n",
    "#         fixed_edges=fixed_edges_generating(targets,aprior_predictors)\n",
    "        \n",
    "    else:\n",
    "        bw_list_method=None\n",
    "        fixed_edges=None\n",
    "    \n",
    "   \n",
    "    \n",
    "#     #Перемешиваем выборку, и делим на тест и тренировку\n",
    "#     df_train,df_test=train_test(df)\n",
    "    print(df.shape)\n",
    "    DAG=bn.structure_learning.fit(df=df,#,\n",
    "                                  methodtype=methodtype,\n",
    "                                  scoretype=scoretype,\n",
    "                                  bw_list_method=bw_list_method,\n",
    "                                  black_list=black_list,\n",
    "                                  white_list=white_list,\n",
    "#                                   fixed_edges=fixed_edges\n",
    "                                 )\n",
    "    \n",
    "    \n",
    "    if isinstance(white_list,list)|isinstance(black_list,list):\n",
    "        second_folder=\"with_black_white_edges\"\n",
    "    else:\n",
    "        second_folder=\"without_black_white_edges\"\n",
    "\n",
    "    DAG['adjmat'].astype(int).to_csv(f\"Data/adjacency matrices/{second_folder}/{ind_graph}_{disease}_{methodtype}_{scoretype}.csv\")\n",
    "\n",
    "#     bn.plot(DAG, interactive=True, params_interactive = {'height':'800px', 'width':'70%', 'layout':None, 'bgcolor':'#0f0f0f0f'})\n",
    "\n",
    "    print(f\"Структура БС с параметрами {methodtype},{scoretype},{methodtype_param},{disease}, найдена успешно\")\n",
    "    \n",
    "#     #Обучаем и валидируем модель\n",
    "#     model=bn.parameter_learning.fit(DAG,df=df_train,methodtype=methodtype_param)                        \n",
    "#     metrics_calculation(model, df_test, methodtype, scoretype, methodtype_param)\n",
    "    \n",
    "#     print(f\"Обучение и валидация БС с параметрами {methodtype},{scoretype},{disease},{methodtype_param} произведена успешно\")\n",
    "    \n",
    "\n",
    "\n",
    "#Функция построения и сохранения всех возможных вариантов \n",
    "def create_all_types_BN(df,disease,targets):\n",
    "    methodtypes=[\"chow-liu\",\"hillclimbsearch\",\"constraintsearch\"] #\"hillclimbsearch\",\"constraintsearch\",\"exhaustivesearch\"\"chow-liu\",,',\"constraintsearch\",\"chow-liu\",\"hc\"\n",
    "    scoretypes=[\"bic\", \"bdeu\",\"k2\"] #\n",
    "    \n",
    "    methodtype_params=['bayes'] #,\"\" ,\"maximumlikelihood\"\n",
    "    white_list=[None]\n",
    "    black_list=[None]\n",
    "    \n",
    "    #Вводим индекс для понимания какой граф брать\n",
    "    ind_graph=0\n",
    "    for method,methodtype_param,score,white_list,black_list in tqdm_notebook(list(itertools.product(methodtypes,\n",
    "                                                                     methodtype_params,\n",
    "                                                                     scoretypes,\n",
    "                                                                     white_list,\n",
    "                                                                     black_list))):\n",
    "\n",
    "        create_Bayesian_network(df,method,methodtype_param,score,disease,targets,white_list,black_list,ind_graph)\n",
    "        ind_graph+=1\n"
   ]
  },
  {
   "cell_type": "code",
   "execution_count": 8,
   "id": "5fbeed5e",
   "metadata": {},
   "outputs": [],
   "source": [
    "def generating_dataset():\n",
    "    df_BN=pd.read_csv(\"Data/adjacency matrices/patienst_intervents_all_diagnosis_without_other_nodes_table_itrerv_without_groups.csv\",\n",
    "                      index_col=\"case_ID\")\n",
    "    return df_BN"
   ]
  },
  {
   "cell_type": "markdown",
   "id": "85e458f7",
   "metadata": {},
   "source": [
    "#### Запускаем построение всех вариантов для отобранных данных без черных и белых листов"
   ]
  },
  {
   "cell_type": "code",
   "execution_count": 9,
   "id": "d6044341",
   "metadata": {},
   "outputs": [],
   "source": [
    "def experiment(df):\n",
    "    create_all_types_BN(df=df,disease=disease,targets=None)"
   ]
  },
  {
   "cell_type": "code",
   "execution_count": 11,
   "id": "64ef7797",
   "metadata": {
    "scrolled": true
   },
   "outputs": [
    {
     "data": {
      "application/vnd.jupyter.widget-view+json": {
       "model_id": "bb19fa3f11094c36b3d0db3c67db1933",
       "version_major": 2,
       "version_minor": 0
      },
      "text/plain": [
       "  0%|          | 0/6 [00:00<?, ?it/s]"
      ]
     },
     "metadata": {},
     "output_type": "display_data"
    },
    {
     "name": "stdout",
     "output_type": "stream",
     "text": [
      "(1599, 31)\n",
      "[bnlearn] >Computing best DAG using [hillclimbsearch]\n",
      "[bnlearn] >Set scoring type at [bic]\n",
      "Структура БС с параметрами hillclimbsearch,bic,bayes,intervs_without_group_diagnosis_without_other, найдена успешно\n",
      "(1599, 31)\n",
      "[bnlearn] >Computing best DAG using [hillclimbsearch]\n",
      "[bnlearn] >Set scoring type at [bdeu]\n",
      "Структура БС с параметрами hillclimbsearch,bdeu,bayes,intervs_without_group_diagnosis_without_other, найдена успешно\n",
      "(1599, 31)\n",
      "[bnlearn] >Computing best DAG using [hillclimbsearch]\n",
      "[bnlearn] >Set scoring type at [k2]\n",
      "Структура БС с параметрами hillclimbsearch,k2,bayes,intervs_without_group_diagnosis_without_other, найдена успешно\n",
      "(1599, 31)\n",
      "[bnlearn] >Computing best DAG using [constraintsearch]\n"
     ]
    },
    {
     "data": {
      "application/vnd.jupyter.widget-view+json": {
       "model_id": "117df9dea64943d2b832821138238d1f",
       "version_major": 2,
       "version_minor": 0
      },
      "text/plain": [
       "  0%|          | 0/5 [00:00<?, ?it/s]"
      ]
     },
     "metadata": {},
     "output_type": "display_data"
    },
    {
     "data": {
      "application/vnd.jupyter.widget-view+json": {
       "model_id": "85cfdc4194f64b65b9e4bec6aa836b4f",
       "version_major": 2,
       "version_minor": 0
      },
      "text/plain": [
       "  0%|          | 0/5 [00:00<?, ?it/s]"
      ]
     },
     "metadata": {},
     "output_type": "display_data"
    },
    {
     "name": "stdout",
     "output_type": "stream",
     "text": [
      "Структура БС с параметрами constraintsearch,bic,bayes,intervs_without_group_diagnosis_without_other, найдена успешно\n",
      "(1599, 31)\n",
      "[bnlearn] >Computing best DAG using [constraintsearch]\n"
     ]
    },
    {
     "data": {
      "application/vnd.jupyter.widget-view+json": {
       "model_id": "a02096ed9e54441595e5ca708046acbf",
       "version_major": 2,
       "version_minor": 0
      },
      "text/plain": [
       "  0%|          | 0/5 [00:00<?, ?it/s]"
      ]
     },
     "metadata": {},
     "output_type": "display_data"
    },
    {
     "data": {
      "application/vnd.jupyter.widget-view+json": {
       "model_id": "83e121a35b7e434d93128124cd126ab3",
       "version_major": 2,
       "version_minor": 0
      },
      "text/plain": [
       "  0%|          | 0/5 [00:00<?, ?it/s]"
      ]
     },
     "metadata": {},
     "output_type": "display_data"
    },
    {
     "name": "stdout",
     "output_type": "stream",
     "text": [
      "Структура БС с параметрами constraintsearch,bdeu,bayes,intervs_without_group_diagnosis_without_other, найдена успешно\n",
      "(1599, 31)\n",
      "[bnlearn] >Computing best DAG using [constraintsearch]\n"
     ]
    },
    {
     "data": {
      "application/vnd.jupyter.widget-view+json": {
       "model_id": "8e9c36c323c74409a8d28ca396c36e15",
       "version_major": 2,
       "version_minor": 0
      },
      "text/plain": [
       "  0%|          | 0/5 [00:00<?, ?it/s]"
      ]
     },
     "metadata": {},
     "output_type": "display_data"
    },
    {
     "data": {
      "application/vnd.jupyter.widget-view+json": {
       "model_id": "8e8ea7cff1f646689c94b288168cfa92",
       "version_major": 2,
       "version_minor": 0
      },
      "text/plain": [
       "  0%|          | 0/5 [00:00<?, ?it/s]"
      ]
     },
     "metadata": {},
     "output_type": "display_data"
    },
    {
     "name": "stdout",
     "output_type": "stream",
     "text": [
      "Структура БС с параметрами constraintsearch,k2,bayes,intervs_without_group_diagnosis_without_other, найдена успешно\n"
     ]
    }
   ],
   "source": [
    "#Генерируем данные без пропусков для обучения\n",
    "df_BN=generating_dataset()\n",
    "disease=\"intervs_without_group_diagnosis_without_other\"\n",
    "# df_BN\n",
    "#Запускаем эксперимент\n",
    "experiment(df_BN)"
   ]
  },
  {
   "cell_type": "markdown",
   "id": "ea9355f0",
   "metadata": {},
   "source": [
    "Обучение и валидация БС с параметрами \n",
    "Progress_BSI18_Depression - пока лучший score 0.61 F1\n"
   ]
  },
  {
   "cell_type": "markdown",
   "id": "9b281724",
   "metadata": {},
   "source": [
    "Строим БСы для 1 таргета, и смотрим на scor, например для GAF, и так пробуем пока не получим хороший score\n",
    "WQO_quality_of_life пробуем\n",
    "Пробуем для Progress_ICF13_mean"
   ]
  }
 ],
 "metadata": {
  "kernelspec": {
   "display_name": "Python 3",
   "language": "python",
   "name": "python3"
  },
  "language_info": {
   "codemirror_mode": {
    "name": "ipython",
    "version": 3
   },
   "file_extension": ".py",
   "mimetype": "text/x-python",
   "name": "python",
   "nbconvert_exporter": "python",
   "pygments_lexer": "ipython3",
   "version": "3.8.8"
  }
 },
 "nbformat": 4,
 "nbformat_minor": 5
}
